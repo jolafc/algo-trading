{
 "cells": [
  {
   "cell_type": "code",
   "execution_count": 1,
   "metadata": {},
   "outputs": [],
   "source": [
    "# Module importing and config\n",
    "\n",
    "import os\n",
    "import sys\n",
    "import requests\n",
    "import io\n",
    "import time\n",
    "import pickle\n",
    "import pandas as pd\n",
    "from matplotlib import pyplot as plt\n",
    "from timeit import default_timer as timer\n",
    "from exp import DATA_DIR\n",
    "\n",
    "pd.set_option('display.width', 160)"
   ]
  },
  {
   "cell_type": "code",
   "execution_count": 2,
   "metadata": {},
   "outputs": [],
   "source": [
    "# Global constant declaration\n",
    "\n",
    "API_URL = \"https://www.alphavantage.co/query\"\n",
    "API_KEY = os.environ['AV_KEY']\n",
    "CONST_CSV = os.path.join(DATA_DIR, 'constituents.csv')\n",
    "SP500_PKL = os.path.join(DATA_DIR, 'sp500.pkl')\n",
    "WAIT_TIME = 61.\n",
    "QPM = 5\n",
    "\n",
    "data = {\n",
    "    \"function\": \"TIME_SERIES_DAILY_ADJUSTED\",\n",
    "    \"symbol\": \"MSFT\",\n",
    "    \"outputsize\": \"full\",\n",
    "    \"datatype\": \"csv\",\n",
    "    \"apikey\": API_KEY,\n",
    "    }"
   ]
  },
  {
   "cell_type": "code",
   "execution_count": 3,
   "metadata": {},
   "outputs": [
    {
     "name": "stdout",
     "output_type": "stream",
     "text": [
      "Response: <Response [200]>, took: 7.312 s.\n"
     ]
    }
   ],
   "source": [
    "# Sample AV API query\n",
    "\n",
    "run_time = timer()\n",
    "response = requests.get(API_URL, data)\n",
    "run_time = timer() - run_time\n",
    "print(f'Response: {response}, took: {run_time:.3f} s.')"
   ]
  },
  {
   "cell_type": "code",
   "execution_count": 4,
   "metadata": {},
   "outputs": [
    {
     "name": "stdout",
     "output_type": "stream",
     "text": [
      "              open    high     low   close  adjusted_close    volume  dividend_amount  split_coefficient\n",
      "timestamp                                                                                               \n",
      "2019-06-24  137.00  138.39  137.02  137.84          137.84  12549142              0.0                1.0\n",
      "2019-06-21  136.58  137.73  136.46  136.97          136.97  36155121              0.0                1.0\n",
      "2019-06-20  137.45  137.66  135.72  136.95          136.95  33042592              0.0                1.0\n",
      "2019-06-19  135.00  135.93  133.81  135.69          135.69  23744441              0.0                1.0\n",
      "2019-06-18  134.19  135.24  133.57  135.16          135.16  25934458              0.0                1.0\n",
      "Price DF shape: (5403, 8)\n"
     ]
    },
    {
     "data": {
      "text/plain": [
       "<matplotlib.axes._subplots.AxesSubplot at 0x7f38c6048908>"
      ]
     },
     "execution_count": 4,
     "metadata": {},
     "output_type": "execute_result"
    },
    {
     "data": {
      "image/png": "[encoded data removed]",
      "text/plain": [
       "<Figure size 432x288 with 1 Axes>"
      ]
     },
     "metadata": {
      "needs_background": "light"
     },
     "output_type": "display_data"
    }
   ],
   "source": [
    "# Sample parsing of AV API request into pd DF of historical prices. \n",
    "\n",
    "file = io.StringIO(response.text)\n",
    "price_df = pd.read_csv(file, index_col=0, parse_dates=['timestamp'])\n",
    "print(price_df.head())\n",
    "print(f'Price DF shape: {price_df.shape}')\n",
    "price_df['adjusted_close'].plot()"
   ]
  },
  {
   "cell_type": "code",
   "execution_count": 5,
   "metadata": {},
   "outputs": [
    {
     "name": "stdout",
     "output_type": "stream",
     "text": [
      "  Symbol                 Name                  Sector\n",
      "0    MMM           3M Company             Industrials\n",
      "1    AOS      A.O. Smith Corp             Industrials\n",
      "2    ABT  Abbott Laboratories             Health Care\n",
      "3   ABBV          AbbVie Inc.             Health Care\n",
      "4    ACN        Accenture plc  Information Technology\n",
      "S&P 500 constituents DF shape: (505, 3)\n"
     ]
    }
   ],
   "source": [
    "# Load the reference (full) list of stock symbols that we wish to use for backtesting. \n",
    "# Load from a git versionned file to avoid remote changes affecting this set.\n",
    "# Current source was taken from the page: https://datahub.io/core/s-and-p-500-companies\n",
    "\n",
    "const_df = pd.read_csv(CONST_CSV)\n",
    "print(const_df.head())\n",
    "print(f'S&P 500 constituents DF shape: {const_df.shape}')"
   ]
  },
  {
   "cell_type": "code",
   "execution_count": null,
   "metadata": {},
   "outputs": [
    {
     "name": "stdout",
     "output_type": "stream",
     "text": [
      "Querying AV API for 82 symbols historical prices:\n",
      "\n",
      "000 - Querying data for TSS, time=6.90 s.\n",
      "001 - Querying data for VLO, time=6.59 s.\n",
      "002 - Querying data for SNPS, time=7.15 s.\n",
      "003 - Querying data for XLNX, time=6.91 s.\n",
      "004 - Querying data for TIF, time=7.27 s.\n",
      "API quota reached, waiting 26.17 s...\n",
      "005 - Querying data for TSCO, time=6.77 s.\n",
      "006 - Querying data for WRK, time=7.17 s.\n",
      "007 - Querying data for WAT, time=6.69 s.\n",
      "008 - Querying data for VNO, time=7.03 s.\n",
      "009 - Querying data for WBA, time=7.26 s.\n",
      "API quota reached, waiting 26.09 s...\n",
      "010 - Querying data for TRIP, time=6.59 s.\n",
      "011 - Querying data for ZTS, time=6.76 s.\n",
      "012 - Querying data for FOXA, time=7.00 s.\n",
      "013 - Querying data for VMC, time=7.01 s.\n",
      "014 - Querying data for UNP, time=7.46 s.\n",
      "API quota reached, waiting 26.18 s...\n",
      "015 - Querying data for WM, time=6.65 s.\n",
      "016 - Querying data for TMK, time=6.87 s.\n",
      "017 - Querying data for WYN, time=7.02 s.\n",
      "018 - Querying data for TROW, time=7.12 s.\n",
      "019 - Querying data for WFC, time=6.99 s.\n",
      "API quota reached, waiting 26.34 s...\n",
      "020 - Querying data for WMB, time=6.65 s.\n",
      "021 - Querying data for XEL, time=6.91 s.\n",
      "022 - Querying data for ULTA, time=6.86 s.\n",
      "023 - Querying data for TJX, time=7.08 s.\n",
      "024 - Querying data for UDR, time=7.28 s.\n",
      "API quota reached, waiting 26.23 s...\n",
      "025 - Querying data for UTX, time=6.86 s.\n",
      "026 - Querying data for TSN, time=6.81 s.\n",
      "027 - Querying data for VRSK, time=6.64 s.\n",
      "028 - Querying data for ZION, time=6.95 s.\n",
      "029 - Querying data for VRTX, time=6.86 s.\n",
      "API quota reached, waiting 26.88 s...\n",
      "030 - Querying data for VAR, time=6.82 s.\n",
      "031 - Querying data for VTR, time=6.74 s.\n",
      "032 - Querying data for VZ, time=6.92 s.\n"
     ]
    }
   ],
   "source": [
    "# Complete the data necessary for backtesting, e.g.:\n",
    "# - load currently pickled dict of historical prices DFs, \n",
    "# - see which symbols from the reference list above are missing, \n",
    "# - query historical prices for theses, \n",
    "# - parse them to DFs and add them to the dict of historical prices DFs, \n",
    "# - update the saved pickle.\n",
    "\n",
    "symbols = const_df['Symbol']\n",
    "if os.path.isfile(SP500_PKL):\n",
    "    with open(SP500_PKL, 'rb') as file:\n",
    "        prices = pickle.load(file)\n",
    "else:\n",
    "    prices = {}\n",
    "missing_symbols = set(symbols).difference(set(prices.keys()))\n",
    "tot_time = 0.\n",
    "print(f'Querying AV API for {len(missing_symbols)} symbols historical prices:\\n')\n",
    "for i, symbol in enumerate(missing_symbols):\n",
    "    if i%QPM == 0 and i>0:\n",
    "        wait_time_left = WAIT_TIME - tot_time\n",
    "        print(f'API quota reached, waiting {wait_time_left:.2f} s...')\n",
    "        sys.stdout.flush()\n",
    "        time.sleep(wait_time_left)\n",
    "        tot_time = 0.\n",
    "    run_time = timer()\n",
    "    av_query = data.copy()\n",
    "    av_query['symbol'] = symbol\n",
    "    response = requests.get(API_URL, data)\n",
    "    file = io.StringIO(response.text)\n",
    "    try:\n",
    "        price_df = pd.read_csv(file, index_col=0, parse_dates=['timestamp'])\n",
    "        prices[symbol] = price_df\n",
    "        run_time = timer() - run_time\n",
    "        print(f'{i:03d} - Querying data for {symbol}, time={run_time:.2f} s.')\n",
    "    except ValueError:\n",
    "        run_time = timer() - run_time\n",
    "        print(f'{i:03d} - ERROR - Querying data for {symbol} did not contain a valid DF, time={run_time:.2f} s.')\n",
    "    sys.stdout.flush()\n",
    "    tot_time += run_time\n",
    "with open(SP500_PKL, 'wb') as file:\n",
    "    pickle.dump(prices, file)\n",
    "print(f'\\nDict of price DFs saved as {SP500_PKL}')"
   ]
  },
  {
   "cell_type": "code",
   "execution_count": 38,
   "metadata": {},
   "outputs": [
    {
     "name": "stdout",
     "output_type": "stream",
     "text": [
      "\n",
      "Loaded pickled prices DF dict with 423 keys:\n",
      "['A', 'AAL', 'AAP', 'AAPL', 'ABBV', 'ABC', 'ABT', 'ACN', 'ADBE', 'ADI', 'ADM', 'ADP', 'ADS', 'ADSK', 'AEE', 'AEP', 'AES', 'AET', 'AFL', 'AGN', 'AIG', 'AIV', 'AIZ', 'AJG', 'AKAM', 'ALB', 'ALGN', 'ALK', 'ALL', 'ALLE', 'ALXN', 'AMAT', 'AMD', 'AME', 'AMG', 'AMGN', 'AMP', 'AMT', 'AMZN', 'ANDV', 'ANSS', 'ANTM', 'AON', 'AOS', 'APA', 'APC', 'APD', 'APH', 'APTV', 'ARE', 'ARNC', 'ATVI', 'AVB', 'AVGO', 'AVY', 'AWK', 'AXP', 'AYI', 'AZO', 'BA', 'BAC', 'BAX', 'BBT', 'BBY', 'BDX', 'BEN', 'BF.B', 'BHF', 'BHGE', 'BIIB', 'BKNG', 'BLK', 'BLL', 'BMY', 'BRK.B', 'BSX', 'BWA', 'BXP', 'C', 'CA', 'CAG', 'CAH', 'CAT', 'CB', 'CBOE', 'CBRE', 'CBS', 'CCI', 'CCL', 'CDNS', 'CELG', 'CERN', 'CF', 'CFG', 'CHD', 'CHRW', 'CHTR', 'CI', 'CINF', 'CL', 'CMA', 'CMCSA', 'CME', 'CMG', 'CMI', 'CMS', 'CNC', 'CNP', 'COF', 'COG', 'COL', 'COP', 'COST', 'COTY', 'CPB', 'CRM', 'CSCO', 'CSRA', 'CSX', 'CTAS', 'CTL', 'CTSH', 'CTXS', 'CVS', 'CVX', 'CXO', 'D', 'DAL', 'DE', 'DFS', 'DG', 'DGX', 'DHI', 'DHR', 'DISCA', 'DISCK', 'DISH', 'DLR', 'DLTR', 'DOV', 'DPS', 'DRE', 'DRI', 'DTE', 'DUK', 'DVA', 'DVN', 'DWDP', 'DXC', 'EA', 'EBAY', 'ECL', 'ED', 'EFX', 'EIX', 'EL', 'EMN', 'EMR', 'EOG', 'EQIX', 'EQR', 'EQT', 'ES', 'ESRX', 'ESS', 'ETFC', 'ETN', 'ETR', 'EVHC', 'EW', 'EXC', 'EXPD', 'EXPE', 'EXR', 'F', 'FAST', 'FB', 'FBHS', 'FCX', 'FDX', 'FE', 'FFIV', 'FIS', 'FISV', 'FITB', 'FL', 'FLIR', 'FLR', 'FLS', 'FMC', 'FRT', 'FTV', 'GD', 'GE', 'GGP', 'GILD', 'GIS', 'GLW', 'GM', 'GOOG', 'GOOGL', 'GPC', 'GPN', 'GPS', 'GRMN', 'GS', 'GT', 'GWW', 'HAL', 'HAS', 'HBAN', 'HBI', 'HCA', 'HCP', 'HD', 'HES', 'HIG', 'HII', 'HLT', 'HOG', 'HOLX', 'HON', 'HP', 'HPE', 'HPQ', 'HRB', 'HRL', 'HRS', 'HSIC', 'HST', 'HUM', 'IBM', 'ICE', 'IDXX', 'IFF', 'ILMN', 'INCY', 'INFO', 'INTC', 'INTU', 'IP', 'IPG', 'IPGP', 'IQV', 'IR', 'IRM', 'ISRG', 'IT', 'ITW', 'IVZ', 'JBHT', 'JCI', 'JEC', 'JNJ', 'JNPR', 'JPM', 'JWN', 'K', 'KEY', 'KHC', 'KIM', 'KLAC', 'KMB', 'KMI', 'KMX', 'KO', 'KORS', 'KR', 'KSS', 'KSU', 'L', 'LB', 'LEG', 'LEN', 'LH', 'LKQ', 'LLL', 'LLY', 'LMT', 'LNC', 'LNT', 'LOW', 'LRCX', 'LUK', 'LUV', 'LYB', 'M', 'MA', 'MAA', 'MAC', 'MAR', 'MAS', 'MAT', 'MCD', 'MCHP', 'MCK', 'MCO', 'MDLZ', 'MDT', 'MET', 'MGM', 'MHK', 'MKC', 'MLM', 'MMC', 'MMM', 'MNST', 'MO', 'MON', 'MPC', 'MRK', 'MRO', 'MS', 'MSFT', 'MSI', 'MTB', 'MTD', 'MU', 'MYL', 'NAVI', 'NBL', 'NCLH', 'NDAQ', 'NEE', 'NEM', 'NFLX', 'NFX', 'NI', 'NKE', 'NKTR', 'NLSN', 'NOC', 'NOV', 'NRG', 'NSC', 'NTAP', 'NTRS', 'NUE', 'NVDA', 'NWL', 'NWS', 'NWSA', 'O', 'OKE', 'OMC', 'ORCL', 'ORLY', 'OXY', 'PAYX', 'PBCT', 'PCAR', 'PCG', 'PEG', 'PEP', 'PFE', 'PFG', 'PG', 'PGR', 'PH', 'PHM', 'PKG', 'PKI', 'PLD', 'PM', 'PNC', 'PNR', 'PNW', 'PPG', 'PPL', 'PRGO', 'PRU', 'PSA', 'PSX', 'PVH', 'PWR', 'PX', 'PXD', 'PYPL', 'QCOM', 'QRVO', 'RCL', 'RE', 'REG', 'REGN', 'RF', 'RHI', 'RHT', 'RJF', 'RL', 'RMD', 'ROK', 'ROP', 'ROST', 'RRC', 'RSG', 'RTN', 'SBAC', 'SBUX', 'SCG', 'SCHW', 'SEE', 'SHW', 'SJM', 'SLB', 'SLG', 'SNA', 'SO', 'SPG', 'SPGI', 'SRCL', 'SRE', 'STI', 'STT', 'STX', 'STZ', 'SWK', 'SWKS', 'SYK', 'T', 'TAP', 'XEC', 'XOM', 'XRAY']\n"
     ]
    }
   ],
   "source": [
    "# Load currently pickled dict of historical prices DFs\n",
    "\n",
    "with open(SP500_PKL, 'rb') as file:\n",
    "    prices = pickle.load(file)\n",
    "print(f'\\nLoaded pickled prices DF dict with {len(prices)} keys:')\n",
    "print(sorted(prices.keys()))"
   ]
  },
  {
   "cell_type": "code",
   "execution_count": null,
   "metadata": {},
   "outputs": [],
   "source": []
  },
  {
   "cell_type": "code",
   "execution_count": null,
   "metadata": {},
   "outputs": [],
   "source": []
  }
 ],
 "metadata": {
  "kernelspec": {
   "display_name": "Python 3",
   "language": "python",
   "name": "python3"
  },
  "language_info": {
   "codemirror_mode": {
    "name": "ipython",
    "version": 3
   },
   "file_extension": ".py",
   "mimetype": "text/x-python",
   "name": "python",
   "nbconvert_exporter": "python",
   "pygments_lexer": "ipython3",
   "version": "3.7.3"
  }
 },
 "nbformat": 4,
 "nbformat_minor": 2
}
